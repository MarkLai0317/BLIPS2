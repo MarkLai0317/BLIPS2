{
 "cells": [
  {
   "cell_type": "code",
   "execution_count": 1,
   "metadata": {},
   "outputs": [
    {
     "name": "stderr",
     "output_type": "stream",
     "text": [
      "/home/mark/Desktop/CVPDL/BLIPS2/.venv/lib/python3.8/site-packages/tqdm/auto.py:21: TqdmWarning: IProgress not found. Please update jupyter and ipywidgets. See https://ipywidgets.readthedocs.io/en/stable/user_install.html\n",
      "  from .autonotebook import tqdm as notebook_tqdm\n",
      "vae/diffusion_pytorch_model.fp16.safetensors not found\n",
      "Loading pipeline components...:   0%|          | 0/7 [00:00<?, ?it/s]`text_config_dict` is provided which will be used to initialize `CLIPTextConfig`. The value `text_config[\"id2label\"]` will be overriden.\n",
      "`text_config_dict` is provided which will be used to initialize `CLIPTextConfig`. The value `text_config[\"bos_token_id\"]` will be overriden.\n",
      "`text_config_dict` is provided which will be used to initialize `CLIPTextConfig`. The value `text_config[\"eos_token_id\"]` will be overriden.\n",
      "Loading pipeline components...:  43%|████▎     | 3/7 [00:02<00:03,  1.30it/s]/home/mark/Desktop/CVPDL/BLIPS2/.venv/lib/python3.8/site-packages/transformers/models/clip/feature_extraction_clip.py:28: FutureWarning: The class CLIPFeatureExtractor is deprecated and will be removed in version 5 of Transformers. Please use CLIPImageProcessor instead.\n",
      "  warnings.warn(\n",
      "Loading pipeline components...: 100%|██████████| 7/7 [00:09<00:00,  1.38s/it]\n",
      "/home/mark/Desktop/CVPDL/BLIPS2/.venv/lib/python3.8/site-packages/diffusers/pipelines/stable_diffusion/pipeline_stable_diffusion_gligen.py:711: FutureWarning: Accessing config attribute `in_channels` directly via 'UNet2DConditionModel' object attribute is deprecated. Please access 'in_channels' over 'UNet2DConditionModel's config object instead, e.g. 'unet.config.in_channels'.\n",
      "  num_channels_latents = self.unet.in_channels\n",
      "/home/mark/Desktop/CVPDL/BLIPS2/.venv/lib/python3.8/site-packages/diffusers/pipelines/stable_diffusion/pipeline_stable_diffusion_gligen.py:744: FutureWarning: Accessing config attribute `cross_attention_dim` directly via 'UNet2DConditionModel' object attribute is deprecated. Please access 'cross_attention_dim' over 'UNet2DConditionModel's config object instead, e.g. 'unet.config.cross_attention_dim'.\n",
      "  max_objs, self.unet.cross_attention_dim, device=device, dtype=self.text_encoder.dtype\n",
      "100%|██████████| 50/50 [00:04<00:00, 11.36it/s]\n"
     ]
    }
   ],
   "source": [
    "import torch\n",
    "from diffusers import StableDiffusionGLIGENPipeline\n",
    "from diffusers.utils import load_image\n",
    "\n",
    "\n",
    "# Generate an image described by the prompt and\n",
    "# insert objects described by text at the region defined by bounding boxes\n",
    "pipe = StableDiffusionGLIGENPipeline.from_pretrained(\n",
    "    \"masterful/gligen-1-4-generation-text-box\", variant=\"fp16\", torch_dtype=torch.float16\n",
    ")\n",
    "pipe = pipe.to(\"cuda\")\n",
    "\n",
    "prompt = \"a waterfall and a modern high speed train running through the tunnel in a beautiful forest with fall foliage\"\n",
    "boxes = [[0.1387, 0.2051, 0.4277, 0.7090], [0.4980, 0.4355, 0.8516, 0.7266]]\n",
    "phrases = [\"a waterfall\", \"a modern high speed train running through the tunnel\"]\n",
    "\n",
    "images = pipe(\n",
    "    prompt=prompt,\n",
    "    gligen_phrases=phrases,\n",
    "    gligen_boxes=boxes,\n",
    "    gligen_scheduled_sampling_beta=1,\n",
    "    output_type=\"pil\",\n",
    "    num_inference_steps=50,\n",
    ").images\n",
    "\n",
    "images[0].save(\"./gligen-1-4-generation-text-box.jpg\")"
   ]
  },
  {
   "cell_type": "code",
   "execution_count": 10,
   "metadata": {},
   "outputs": [],
   "source": [
    "import json\n",
    "def generate_image(filePath, prefix):\n",
    "    meta_list = None\n",
    "    with open(filePath, 'r') as f:\n",
    "        meta_list = json.loads(f.read())\n",
    "\n",
    "    img_num = 0\n",
    "    for meta in meta_list:\n",
    "        images = pipe(\n",
    "            prompt=meta[\"prompt\"],\n",
    "            gligen_phrases=meta[\"phrases\"],\n",
    "            gligen_boxes=meta[\"locations\"],\n",
    "            gligen_scheduled_sampling_beta=1,\n",
    "            output_type=\"pil\",\n",
    "            num_inference_steps=50,\n",
    "        ).images\n",
    "        img_num += 1\n",
    "        images[0].save(f\"gligen_img/{prefix}-{img_num}.jpg\")\n"
   ]
  },
  {
   "cell_type": "code",
   "execution_count": 11,
   "metadata": {},
   "outputs": [
    {
     "name": "stderr",
     "output_type": "stream",
     "text": [
      "100%|██████████| 50/50 [00:03<00:00, 12.83it/s]\n",
      "100%|██████████| 50/50 [00:03<00:00, 13.12it/s]\n",
      "100%|██████████| 50/50 [00:03<00:00, 12.98it/s]\n",
      "100%|██████████| 50/50 [00:03<00:00, 13.10it/s]\n",
      "100%|██████████| 50/50 [00:03<00:00, 12.74it/s]\n",
      "100%|██████████| 50/50 [00:03<00:00, 12.76it/s]\n",
      "100%|██████████| 50/50 [00:03<00:00, 12.90it/s]\n",
      "100%|██████████| 50/50 [00:03<00:00, 12.74it/s]\n",
      "100%|██████████| 50/50 [00:03<00:00, 12.97it/s]\n",
      "100%|██████████| 50/50 [00:03<00:00, 12.74it/s]\n",
      "100%|██████████| 50/50 [00:03<00:00, 12.88it/s]\n",
      "100%|██████████| 50/50 [00:03<00:00, 12.56it/s]\n",
      "100%|██████████| 50/50 [00:03<00:00, 12.82it/s]\n",
      "100%|██████████| 50/50 [00:03<00:00, 13.03it/s]\n",
      "100%|██████████| 50/50 [00:03<00:00, 13.30it/s]\n",
      "100%|██████████| 50/50 [00:03<00:00, 13.20it/s]\n",
      "100%|██████████| 50/50 [00:03<00:00, 13.36it/s]\n",
      "100%|██████████| 50/50 [00:03<00:00, 13.05it/s]\n",
      "100%|██████████| 50/50 [00:03<00:00, 13.18it/s]\n",
      "100%|██████████| 50/50 [00:03<00:00, 13.33it/s]\n"
     ]
    }
   ],
   "source": [
    "generate_image(\"template1_fish.txt\", \"template1_fish\")"
   ]
  }
 ],
 "metadata": {
  "kernelspec": {
   "display_name": ".venv",
   "language": "python",
   "name": "python3"
  },
  "language_info": {
   "codemirror_mode": {
    "name": "ipython",
    "version": 3
   },
   "file_extension": ".py",
   "mimetype": "text/x-python",
   "name": "python",
   "nbconvert_exporter": "python",
   "pygments_lexer": "ipython3",
   "version": "3.8.10"
  }
 },
 "nbformat": 4,
 "nbformat_minor": 2
}
